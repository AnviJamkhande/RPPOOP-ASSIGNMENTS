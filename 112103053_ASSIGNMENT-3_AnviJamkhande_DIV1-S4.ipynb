{
 "cells": [
  {
   "cell_type": "code",
   "execution_count": null,
   "id": "b847f8c5",
   "metadata": {},
   "outputs": [],
   "source": [
    "import tkinter as tk\n",
    "\n",
    "# Function to handle the \"New\" menu item\n",
    "def new_file():\n",
    "    print(\"New file\")\n",
    "\n",
    "# Function to handle the \"Open\" menu item\n",
    "def open_file():\n",
    "    print(\"Open file\")\n",
    "\n",
    "# Create the main window\n",
    "window = tk.Tk()\n",
    "window.title(\"Menu Example\")\n",
    "\n",
    "# Create the menu bar\n",
    "menu_bar = tk.Menu(window)\n",
    "\n",
    "# Create the \"File\" menu\n",
    "file_menu = tk.Menu(menu_bar, tearoff=0)\n",
    "file_menu.add_command(label=\"New\", command=new_file)\n",
    "file_menu.add_command(label=\"Open\", command=open_file)\n",
    "file_menu.add_separator()\n",
    "file_menu.add_command(label=\"Exit\", command=window.quit)\n",
    "\n",
    "# Add the \"File\" menu to the menu bar\n",
    "menu_bar.add_cascade(label=\"File\", menu=file_menu)\n",
    "\n",
    "# Configure the window to use the menu bar\n",
    "window.config(menu=menu_bar)\n",
    "\n",
    "# Start the tkinter event loop\n",
    "window.mainloop()\n"
   ]
  },
  {
   "cell_type": "code",
   "execution_count": null,
   "id": "7773253f",
   "metadata": {},
   "outputs": [],
   "source": []
  }
 ],
 "metadata": {
  "kernelspec": {
   "display_name": "Python 3 (ipykernel)",
   "language": "python",
   "name": "python3"
  },
  "language_info": {
   "codemirror_mode": {
    "name": "ipython",
    "version": 3
   },
   "file_extension": ".py",
   "mimetype": "text/x-python",
   "name": "python",
   "nbconvert_exporter": "python",
   "pygments_lexer": "ipython3",
   "version": "3.11.0"
  }
 },
 "nbformat": 4,
 "nbformat_minor": 5
}
